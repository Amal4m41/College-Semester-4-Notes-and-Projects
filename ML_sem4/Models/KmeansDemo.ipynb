{
 "cells": [
  {
   "cell_type": "code",
   "execution_count": 1,
   "metadata": {},
   "outputs": [],
   "source": [
    "from sklearn import datasets\n",
    "import numpy as np, pandas as pd, matplotlib.pyplot as plt"
   ]
  },
  {
   "cell_type": "code",
   "execution_count": 2,
   "metadata": {},
   "outputs": [
    {
     "data": {
      "text/plain": [
       "dict_keys(['data', 'target', 'target_names', 'DESCR', 'feature_names', 'filename'])"
      ]
     },
     "execution_count": 2,
     "metadata": {},
     "output_type": "execute_result"
    }
   ],
   "source": [
    "datasets.load_iris().keys()"
   ]
  },
  {
   "cell_type": "code",
   "execution_count": 3,
   "metadata": {},
   "outputs": [],
   "source": [
    "#feature_names:\n",
    "# ['sepal length (cm)',\n",
    "#  'sepal width (cm)',\n",
    "#  'petal length (cm)',\n",
    "#  'petal width (cm)']\n",
    "\n",
    "def init():\n",
    "    Iris=datasets.load_iris()\n",
    "    #Creating a dataframe with petal length and petal width\n",
    "    df=pd.DataFrame({'x':Iris.data[:,2],'y':Iris.data[:,3],'cluster':Iris.target})\n",
    "    print(df)\n",
    "    return df"
   ]
  },
  {
   "cell_type": "code",
   "execution_count": 4,
   "metadata": {},
   "outputs": [
    {
     "name": "stdout",
     "output_type": "stream",
     "text": [
      "       x    y  cluster\n",
      "0    1.4  0.2        0\n",
      "1    1.4  0.2        0\n",
      "2    1.3  0.2        0\n",
      "3    1.5  0.2        0\n",
      "4    1.4  0.2        0\n",
      "..   ...  ...      ...\n",
      "145  5.2  2.3        2\n",
      "146  5.0  1.9        2\n",
      "147  5.2  2.0        2\n",
      "148  5.4  2.3        2\n",
      "149  5.1  1.8        2\n",
      "\n",
      "[150 rows x 3 columns]\n"
     ]
    }
   ],
   "source": [
    "df=init()"
   ]
  },
  {
   "cell_type": "code",
   "execution_count": 5,
   "metadata": {},
   "outputs": [],
   "source": [
    "def get_k_clusters(df,k):\n",
    "    centroids={}\n",
    "    for i in range(k):\n",
    "        coordinates=[]\n",
    "        coordinates.append(df[df['cluster']==i]['x'].mean()) #x coordinate\n",
    "        coordinates.append(df[df['cluster']==i]['y'].mean()) #y coordinate\n",
    "        centroids[i]=coordinates\n",
    "    return centroids    "
   ]
  },
  {
   "cell_type": "code",
   "execution_count": 6,
   "metadata": {},
   "outputs": [
    {
     "data": {
      "text/plain": [
       "1.4620000000000002"
      ]
     },
     "execution_count": 6,
     "metadata": {},
     "output_type": "execute_result"
    }
   ],
   "source": [
    "\n",
    "#We are selecting only those records/instances which are classified as target/cluster '0' and we only take the 'x' column and find it's mean\n",
    "df[df['cluster']==0]['x'].mean()\n",
    "#this gives the mean of the 'x' column which belongs to the target '0'"
   ]
  },
  {
   "cell_type": "code",
   "execution_count": 7,
   "metadata": {},
   "outputs": [
    {
     "data": {
      "text/plain": [
       "(150, 3)"
      ]
     },
     "execution_count": 7,
     "metadata": {},
     "output_type": "execute_result"
    }
   ],
   "source": [
    "df.shape"
   ]
  },
  {
   "cell_type": "code",
   "execution_count": 8,
   "metadata": {},
   "outputs": [
    {
     "name": "stdout",
     "output_type": "stream",
     "text": [
      "{0: [1.4620000000000002, 0.24599999999999997], 1: [4.26, 1.3259999999999998], 2: [5.5520000000000005, 2.0260000000000002]}\n"
     ]
    }
   ],
   "source": [
    "centroids=get_k_clusters(df,3)  #cuz we have 3 classes to cluster\n",
    "print(centroids)"
   ]
  },
  {
   "cell_type": "code",
   "execution_count": 9,
   "metadata": {},
   "outputs": [],
   "source": [
    "def assignment(df,centroids):\n",
    "    for k,v in centroids.items():\n",
    "        print(k,v)\n",
    "        df['Distance from cluster {}'.format(k)]=np.sqrt(((df['x']-v[0])**2) +((df['y']-v[1])**2))\n",
    "        \n",
    "#     print(df)\n",
    "    #assigning the closest cluster w.r.t to distance measured\n",
    "    df['closest cluster']=df.iloc[:,[3,4,5]].idxmin(axis=1) \n",
    "    df['closest cluster']=df['closest cluster'].map(lambda x : int(x.lstrip(\"Distance from cluster\")))\n",
    "    \n",
    "    #alloting color for each cluster for visulaization\n",
    "    color_map={0:'r',1:'g',2:'b'}\n",
    "    df['color']=df['closest cluster'].map(lambda x: color_map[x])\n",
    "    \n",
    "    return df"
   ]
  },
  {
   "cell_type": "code",
   "execution_count": 10,
   "metadata": {},
   "outputs": [
    {
     "name": "stdout",
     "output_type": "stream",
     "text": [
      "0 [1.4620000000000002, 0.24599999999999997]\n",
      "1 [4.26, 1.3259999999999998]\n",
      "2 [5.5520000000000005, 2.0260000000000002]\n"
     ]
    }
   ],
   "source": [
    "data=assignment(df,centroids)"
   ]
  },
  {
   "cell_type": "code",
   "execution_count": 11,
   "metadata": {},
   "outputs": [],
   "source": [
    "# df[['x','y']]-[1.4620000000000002, 0.24599999999999997]"
   ]
  },
  {
   "cell_type": "code",
   "execution_count": 12,
   "metadata": {},
   "outputs": [
    {
     "data": {
      "text/plain": [
       "0      Distance from cluster 0\n",
       "1      Distance from cluster 0\n",
       "2      Distance from cluster 0\n",
       "3      Distance from cluster 0\n",
       "4      Distance from cluster 0\n",
       "                ...           \n",
       "145    Distance from cluster 2\n",
       "146    Distance from cluster 2\n",
       "147    Distance from cluster 2\n",
       "148    Distance from cluster 2\n",
       "149    Distance from cluster 2\n",
       "Length: 150, dtype: object"
      ]
     },
     "execution_count": 12,
     "metadata": {},
     "output_type": "execute_result"
    }
   ],
   "source": [
    "data.iloc[:,[3,4,5]].idxmin(axis=1)     #returns the name of the column which has the lowest value."
   ]
  },
  {
   "cell_type": "code",
   "execution_count": 13,
   "metadata": {},
   "outputs": [
    {
     "data": {
      "text/plain": [
       "'fdet'"
      ]
     },
     "execution_count": 13,
     "metadata": {},
     "output_type": "execute_result"
    }
   ],
   "source": [
    "\"sfdet\".strip(\"my name is amal\")"
   ]
  },
  {
   "cell_type": "code",
   "execution_count": 14,
   "metadata": {},
   "outputs": [
    {
     "data": {
      "text/plain": [
       "0     1\n",
       "1     4\n",
       "2     9\n",
       "3    16\n",
       "4    25\n",
       "dtype: int64"
      ]
     },
     "execution_count": 14,
     "metadata": {},
     "output_type": "execute_result"
    }
   ],
   "source": [
    "pd.Series([1,2,3,4,5]).map(lambda x:x**2)"
   ]
  },
  {
   "cell_type": "code",
   "execution_count": 15,
   "metadata": {},
   "outputs": [
    {
     "data": {
      "text/html": [
       "<div>\n",
       "<style scoped>\n",
       "    .dataframe tbody tr th:only-of-type {\n",
       "        vertical-align: middle;\n",
       "    }\n",
       "\n",
       "    .dataframe tbody tr th {\n",
       "        vertical-align: top;\n",
       "    }\n",
       "\n",
       "    .dataframe thead th {\n",
       "        text-align: right;\n",
       "    }\n",
       "</style>\n",
       "<table border=\"1\" class=\"dataframe\">\n",
       "  <thead>\n",
       "    <tr style=\"text-align: right;\">\n",
       "      <th></th>\n",
       "      <th>x</th>\n",
       "      <th>y</th>\n",
       "      <th>cluster</th>\n",
       "      <th>Distance from cluster 0</th>\n",
       "      <th>Distance from cluster 1</th>\n",
       "      <th>Distance from cluster 2</th>\n",
       "      <th>closest cluster</th>\n",
       "      <th>color</th>\n",
       "    </tr>\n",
       "  </thead>\n",
       "  <tbody>\n",
       "    <tr>\n",
       "      <th>0</th>\n",
       "      <td>1.4</td>\n",
       "      <td>0.2</td>\n",
       "      <td>0</td>\n",
       "      <td>0.077201</td>\n",
       "      <td>3.073675</td>\n",
       "      <td>4.535789</td>\n",
       "      <td>0</td>\n",
       "      <td>r</td>\n",
       "    </tr>\n",
       "    <tr>\n",
       "      <th>1</th>\n",
       "      <td>1.4</td>\n",
       "      <td>0.2</td>\n",
       "      <td>0</td>\n",
       "      <td>0.077201</td>\n",
       "      <td>3.073675</td>\n",
       "      <td>4.535789</td>\n",
       "      <td>0</td>\n",
       "      <td>r</td>\n",
       "    </tr>\n",
       "    <tr>\n",
       "      <th>2</th>\n",
       "      <td>1.3</td>\n",
       "      <td>0.2</td>\n",
       "      <td>0</td>\n",
       "      <td>0.168404</td>\n",
       "      <td>3.166935</td>\n",
       "      <td>4.627503</td>\n",
       "      <td>0</td>\n",
       "      <td>r</td>\n",
       "    </tr>\n",
       "    <tr>\n",
       "      <th>3</th>\n",
       "      <td>1.5</td>\n",
       "      <td>0.2</td>\n",
       "      <td>0</td>\n",
       "      <td>0.059666</td>\n",
       "      <td>2.980852</td>\n",
       "      <td>4.444432</td>\n",
       "      <td>0</td>\n",
       "      <td>r</td>\n",
       "    </tr>\n",
       "    <tr>\n",
       "      <th>4</th>\n",
       "      <td>1.4</td>\n",
       "      <td>0.2</td>\n",
       "      <td>0</td>\n",
       "      <td>0.077201</td>\n",
       "      <td>3.073675</td>\n",
       "      <td>4.535789</td>\n",
       "      <td>0</td>\n",
       "      <td>r</td>\n",
       "    </tr>\n",
       "    <tr>\n",
       "      <th>...</th>\n",
       "      <td>...</td>\n",
       "      <td>...</td>\n",
       "      <td>...</td>\n",
       "      <td>...</td>\n",
       "      <td>...</td>\n",
       "      <td>...</td>\n",
       "      <td>...</td>\n",
       "      <td>...</td>\n",
       "    </tr>\n",
       "    <tr>\n",
       "      <th>145</th>\n",
       "      <td>5.2</td>\n",
       "      <td>2.3</td>\n",
       "      <td>2</td>\n",
       "      <td>4.265157</td>\n",
       "      <td>1.353616</td>\n",
       "      <td>0.446072</td>\n",
       "      <td>2</td>\n",
       "      <td>b</td>\n",
       "    </tr>\n",
       "    <tr>\n",
       "      <th>146</th>\n",
       "      <td>5.0</td>\n",
       "      <td>1.9</td>\n",
       "      <td>2</td>\n",
       "      <td>3.905529</td>\n",
       "      <td>0.936523</td>\n",
       "      <td>0.566198</td>\n",
       "      <td>2</td>\n",
       "      <td>b</td>\n",
       "    </tr>\n",
       "    <tr>\n",
       "      <th>147</th>\n",
       "      <td>5.2</td>\n",
       "      <td>2.0</td>\n",
       "      <td>2</td>\n",
       "      <td>4.129063</td>\n",
       "      <td>1.156666</td>\n",
       "      <td>0.352959</td>\n",
       "      <td>2</td>\n",
       "      <td>b</td>\n",
       "    </tr>\n",
       "    <tr>\n",
       "      <th>148</th>\n",
       "      <td>5.4</td>\n",
       "      <td>2.3</td>\n",
       "      <td>2</td>\n",
       "      <td>4.441482</td>\n",
       "      <td>1.499425</td>\n",
       "      <td>0.313337</td>\n",
       "      <td>2</td>\n",
       "      <td>b</td>\n",
       "    </tr>\n",
       "    <tr>\n",
       "      <th>149</th>\n",
       "      <td>5.1</td>\n",
       "      <td>1.8</td>\n",
       "      <td>2</td>\n",
       "      <td>3.956003</td>\n",
       "      <td>0.964508</td>\n",
       "      <td>0.505351</td>\n",
       "      <td>2</td>\n",
       "      <td>b</td>\n",
       "    </tr>\n",
       "  </tbody>\n",
       "</table>\n",
       "<p>150 rows × 8 columns</p>\n",
       "</div>"
      ],
      "text/plain": [
       "       x    y  cluster  Distance from cluster 0  Distance from cluster 1  \\\n",
       "0    1.4  0.2        0                 0.077201                 3.073675   \n",
       "1    1.4  0.2        0                 0.077201                 3.073675   \n",
       "2    1.3  0.2        0                 0.168404                 3.166935   \n",
       "3    1.5  0.2        0                 0.059666                 2.980852   \n",
       "4    1.4  0.2        0                 0.077201                 3.073675   \n",
       "..   ...  ...      ...                      ...                      ...   \n",
       "145  5.2  2.3        2                 4.265157                 1.353616   \n",
       "146  5.0  1.9        2                 3.905529                 0.936523   \n",
       "147  5.2  2.0        2                 4.129063                 1.156666   \n",
       "148  5.4  2.3        2                 4.441482                 1.499425   \n",
       "149  5.1  1.8        2                 3.956003                 0.964508   \n",
       "\n",
       "     Distance from cluster 2  closest cluster color  \n",
       "0                   4.535789                0     r  \n",
       "1                   4.535789                0     r  \n",
       "2                   4.627503                0     r  \n",
       "3                   4.444432                0     r  \n",
       "4                   4.535789                0     r  \n",
       "..                       ...              ...   ...  \n",
       "145                 0.446072                2     b  \n",
       "146                 0.566198                2     b  \n",
       "147                 0.352959                2     b  \n",
       "148                 0.313337                2     b  \n",
       "149                 0.505351                2     b  \n",
       "\n",
       "[150 rows x 8 columns]"
      ]
     },
     "execution_count": 15,
     "metadata": {},
     "output_type": "execute_result"
    }
   ],
   "source": [
    "data"
   ]
  },
  {
   "cell_type": "code",
   "execution_count": 42,
   "metadata": {},
   "outputs": [],
   "source": [
    "def visualize(df,centroids,alpha1=0.4):  \n",
    "    color_map={0:'r',1:'g',2:'b'}\n",
    "    plt.scatter(df['x'],df['y'],c=df['color'],alpha=alpha1)\n",
    "    for i in centroids.keys():\n",
    "              plt.scatter(centroids[i][0],centroids[i][1],c=color_map[i],edgecolors='black')\n",
    "#Centroids:\n",
    "# {0: [1.4620000000000002, 0.24599999999999997],\n",
    "#  1: [4.26, 1.3259999999999998],\n",
    "#  2: [5.5520000000000005, 2.0260000000000002]}\n",
    "    \n",
    "    plt.xlabel(\"petal length\")\n",
    "    plt.ylabel(\"petal width\")"
   ]
  },
  {
   "cell_type": "code",
   "execution_count": 43,
   "metadata": {},
   "outputs": [
    {
     "data": {
      "image/png": "[encoded data removed]",
      "text/plain": [
       "<Figure size 432x288 with 1 Axes>"
      ]
     },
     "metadata": {
      "needs_background": "light"
     },
     "output_type": "display_data"
    }
   ],
   "source": [
    "visualize(data,centroids)"
   ]
  },
  {
   "cell_type": "code",
   "execution_count": 28,
   "metadata": {},
   "outputs": [
    {
     "data": {
      "text/plain": [
       "{0: [1.4620000000000002, 0.24599999999999997],\n",
       " 1: [4.26, 1.3259999999999998],\n",
       " 2: [5.5520000000000005, 2.0260000000000002]}"
      ]
     },
     "execution_count": 28,
     "metadata": {},
     "output_type": "execute_result"
    }
   ],
   "source": [
    "centroids"
   ]
  },
  {
   "cell_type": "code",
   "execution_count": 44,
   "metadata": {},
   "outputs": [],
   "source": [
    "# to find the centroids w.r.t the closest cluster\n",
    "def upgrade_centroids(df,centroids):\n",
    "    for i in centroids.keys():\n",
    "        centroids[i][0]=df[df['closest cluster']==i]['x'].mean()\n",
    "        centroids[i][1]=df[df['closest cluster']==i]['y'].mean()\n",
    "    return centroids    "
   ]
  },
  {
   "cell_type": "code",
   "execution_count": 45,
   "metadata": {},
   "outputs": [],
   "source": [
    "cent=upgrade_centroids(data,centroids)"
   ]
  },
  {
   "cell_type": "code",
   "execution_count": 46,
   "metadata": {},
   "outputs": [
    {
     "data": {
      "text/plain": [
       "{0: [1.4620000000000002, 0.24599999999999997],\n",
       " 1: [4.26923076923077, 1.3423076923076922],\n",
       " 2: [5.595833333333334, 2.0375]}"
      ]
     },
     "execution_count": 46,
     "metadata": {},
     "output_type": "execute_result"
    }
   ],
   "source": [
    "cent"
   ]
  },
  {
   "cell_type": "code",
   "execution_count": 52,
   "metadata": {},
   "outputs": [
    {
     "data": {
      "text/plain": [
       "0.96"
      ]
     },
     "execution_count": 52,
     "metadata": {},
     "output_type": "execute_result"
    }
   ],
   "source": [
    "(data['cluster']==data['closest cluster']).sum()/len(data['cluster'])    #four cluster's are different"
   ]
  },
  {
   "cell_type": "code",
   "execution_count": 63,
   "metadata": {},
   "outputs": [
    {
     "name": "stdout",
     "output_type": "stream",
     "text": [
      "{0: [1.4620000000000002, 0.24599999999999997], 1: [4.26923076923077, 1.3423076923076922], 2: [5.595833333333334, 2.0375]}\n",
      "{0: [1.4620000000000002, 0.24599999999999997], 1: [4.26923076923077, 1.3423076923076922], 2: [5.595833333333334, 2.0375]}\n",
      "0 [1.4620000000000002, 0.24599999999999997]\n",
      "1 [4.26923076923077, 1.3423076923076922]\n",
      "2 [5.595833333333334, 2.0375]\n",
      "After clustering\n"
     ]
    },
    {
     "data": {
      "image/png": "[encoded data removed]",
      "text/plain": [
       "<Figure size 432x288 with 1 Axes>"
      ]
     },
     "metadata": {
      "needs_background": "light"
     },
     "output_type": "display_data"
    }
   ],
   "source": [
    "# iterate will we get the final k clusters (i.r cluster==closest cluster)\n",
    "print(centroids)\n",
    "while(1):\n",
    "    closest_cluster_copy=data['closest cluster'].copy()\n",
    "    \n",
    "    centroids=upgrade_centroids(data,centroids)\n",
    "    print(centroids)\n",
    "    data=assignment(data,centroids)\n",
    "#     visualize(data,centroids)\n",
    "    if(data['closest cluster'].equals(closest_cluster_copy)):\n",
    "        break\n",
    "    \n",
    "print(\"After clustering\")\n",
    "visualize(data,centroids)"
   ]
  },
  {
   "cell_type": "code",
   "execution_count": 58,
   "metadata": {},
   "outputs": [],
   "source": [
    "p=data['x'].copy()"
   ]
  },
  {
   "cell_type": "code",
   "execution_count": 59,
   "metadata": {},
   "outputs": [
    {
     "data": {
      "text/plain": [
       "0      1.4\n",
       "1      1.4\n",
       "2      1.3\n",
       "3      1.5\n",
       "4      1.4\n",
       "      ... \n",
       "145    5.2\n",
       "146    5.0\n",
       "147    5.2\n",
       "148    5.4\n",
       "149    5.1\n",
       "Name: x, Length: 150, dtype: float64"
      ]
     },
     "execution_count": 59,
     "metadata": {},
     "output_type": "execute_result"
    }
   ],
   "source": [
    "p"
   ]
  },
  {
   "cell_type": "code",
   "execution_count": 55,
   "metadata": {},
   "outputs": [
    {
     "data": {
      "text/html": [
       "<div>\n",
       "<style scoped>\n",
       "    .dataframe tbody tr th:only-of-type {\n",
       "        vertical-align: middle;\n",
       "    }\n",
       "\n",
       "    .dataframe tbody tr th {\n",
       "        vertical-align: top;\n",
       "    }\n",
       "\n",
       "    .dataframe thead th {\n",
       "        text-align: right;\n",
       "    }\n",
       "</style>\n",
       "<table border=\"1\" class=\"dataframe\">\n",
       "  <thead>\n",
       "    <tr style=\"text-align: right;\">\n",
       "      <th></th>\n",
       "      <th>x</th>\n",
       "      <th>y</th>\n",
       "      <th>cluster</th>\n",
       "      <th>Distance from cluster 0</th>\n",
       "      <th>Distance from cluster 1</th>\n",
       "      <th>Distance from cluster 2</th>\n",
       "      <th>closest cluster</th>\n",
       "      <th>color</th>\n",
       "    </tr>\n",
       "  </thead>\n",
       "  <tbody>\n",
       "    <tr>\n",
       "      <th>0</th>\n",
       "      <td>1.4</td>\n",
       "      <td>0.2</td>\n",
       "      <td>0</td>\n",
       "      <td>0.077201</td>\n",
       "      <td>3.073675</td>\n",
       "      <td>4.535789</td>\n",
       "      <td>0</td>\n",
       "      <td>r</td>\n",
       "    </tr>\n",
       "    <tr>\n",
       "      <th>1</th>\n",
       "      <td>1.4</td>\n",
       "      <td>0.2</td>\n",
       "      <td>0</td>\n",
       "      <td>0.077201</td>\n",
       "      <td>3.073675</td>\n",
       "      <td>4.535789</td>\n",
       "      <td>0</td>\n",
       "      <td>r</td>\n",
       "    </tr>\n",
       "    <tr>\n",
       "      <th>2</th>\n",
       "      <td>1.3</td>\n",
       "      <td>0.2</td>\n",
       "      <td>0</td>\n",
       "      <td>0.168404</td>\n",
       "      <td>3.166935</td>\n",
       "      <td>4.627503</td>\n",
       "      <td>0</td>\n",
       "      <td>r</td>\n",
       "    </tr>\n",
       "    <tr>\n",
       "      <th>3</th>\n",
       "      <td>1.5</td>\n",
       "      <td>0.2</td>\n",
       "      <td>0</td>\n",
       "      <td>0.059666</td>\n",
       "      <td>2.980852</td>\n",
       "      <td>4.444432</td>\n",
       "      <td>0</td>\n",
       "      <td>r</td>\n",
       "    </tr>\n",
       "    <tr>\n",
       "      <th>4</th>\n",
       "      <td>1.4</td>\n",
       "      <td>0.2</td>\n",
       "      <td>0</td>\n",
       "      <td>0.077201</td>\n",
       "      <td>3.073675</td>\n",
       "      <td>4.535789</td>\n",
       "      <td>0</td>\n",
       "      <td>r</td>\n",
       "    </tr>\n",
       "    <tr>\n",
       "      <th>...</th>\n",
       "      <td>...</td>\n",
       "      <td>...</td>\n",
       "      <td>...</td>\n",
       "      <td>...</td>\n",
       "      <td>...</td>\n",
       "      <td>...</td>\n",
       "      <td>...</td>\n",
       "      <td>...</td>\n",
       "    </tr>\n",
       "    <tr>\n",
       "      <th>145</th>\n",
       "      <td>5.2</td>\n",
       "      <td>2.3</td>\n",
       "      <td>2</td>\n",
       "      <td>4.265157</td>\n",
       "      <td>1.353616</td>\n",
       "      <td>0.446072</td>\n",
       "      <td>2</td>\n",
       "      <td>b</td>\n",
       "    </tr>\n",
       "    <tr>\n",
       "      <th>146</th>\n",
       "      <td>5.0</td>\n",
       "      <td>1.9</td>\n",
       "      <td>2</td>\n",
       "      <td>3.905529</td>\n",
       "      <td>0.936523</td>\n",
       "      <td>0.566198</td>\n",
       "      <td>2</td>\n",
       "      <td>b</td>\n",
       "    </tr>\n",
       "    <tr>\n",
       "      <th>147</th>\n",
       "      <td>5.2</td>\n",
       "      <td>2.0</td>\n",
       "      <td>2</td>\n",
       "      <td>4.129063</td>\n",
       "      <td>1.156666</td>\n",
       "      <td>0.352959</td>\n",
       "      <td>2</td>\n",
       "      <td>b</td>\n",
       "    </tr>\n",
       "    <tr>\n",
       "      <th>148</th>\n",
       "      <td>5.4</td>\n",
       "      <td>2.3</td>\n",
       "      <td>2</td>\n",
       "      <td>4.441482</td>\n",
       "      <td>1.499425</td>\n",
       "      <td>0.313337</td>\n",
       "      <td>2</td>\n",
       "      <td>b</td>\n",
       "    </tr>\n",
       "    <tr>\n",
       "      <th>149</th>\n",
       "      <td>5.1</td>\n",
       "      <td>1.8</td>\n",
       "      <td>2</td>\n",
       "      <td>3.956003</td>\n",
       "      <td>0.964508</td>\n",
       "      <td>0.505351</td>\n",
       "      <td>2</td>\n",
       "      <td>b</td>\n",
       "    </tr>\n",
       "  </tbody>\n",
       "</table>\n",
       "<p>150 rows × 8 columns</p>\n",
       "</div>"
      ],
      "text/plain": [
       "       x    y  cluster  Distance from cluster 0  Distance from cluster 1  \\\n",
       "0    1.4  0.2        0                 0.077201                 3.073675   \n",
       "1    1.4  0.2        0                 0.077201                 3.073675   \n",
       "2    1.3  0.2        0                 0.168404                 3.166935   \n",
       "3    1.5  0.2        0                 0.059666                 2.980852   \n",
       "4    1.4  0.2        0                 0.077201                 3.073675   \n",
       "..   ...  ...      ...                      ...                      ...   \n",
       "145  5.2  2.3        2                 4.265157                 1.353616   \n",
       "146  5.0  1.9        2                 3.905529                 0.936523   \n",
       "147  5.2  2.0        2                 4.129063                 1.156666   \n",
       "148  5.4  2.3        2                 4.441482                 1.499425   \n",
       "149  5.1  1.8        2                 3.956003                 0.964508   \n",
       "\n",
       "     Distance from cluster 2  closest cluster color  \n",
       "0                   4.535789                0     r  \n",
       "1                   4.535789                0     r  \n",
       "2                   4.627503                0     r  \n",
       "3                   4.444432                0     r  \n",
       "4                   4.535789                0     r  \n",
       "..                       ...              ...   ...  \n",
       "145                 0.446072                2     b  \n",
       "146                 0.566198                2     b  \n",
       "147                 0.352959                2     b  \n",
       "148                 0.313337                2     b  \n",
       "149                 0.505351                2     b  \n",
       "\n",
       "[150 rows x 8 columns]"
      ]
     },
     "execution_count": 55,
     "metadata": {},
     "output_type": "execute_result"
    }
   ],
   "source": [
    "df"
   ]
  }
 ],
 "metadata": {
  "kernelspec": {
   "display_name": "Python 3",
   "language": "python",
   "name": "python3"
  },
  "language_info": {
   "codemirror_mode": {
    "name": "ipython",
    "version": 3
   },
   "file_extension": ".py",
   "mimetype": "text/x-python",
   "name": "python",
   "nbconvert_exporter": "python",
   "pygments_lexer": "ipython3",
   "version": "3.8.7"
  }
 },
 "nbformat": 4,
 "nbformat_minor": 4
}
