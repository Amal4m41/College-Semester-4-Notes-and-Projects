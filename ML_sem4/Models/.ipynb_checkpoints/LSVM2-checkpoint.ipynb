{
 "cells": [
  {
   "cell_type": "code",
   "execution_count": 66,
   "metadata": {},
   "outputs": [],
   "source": [
    "from sklearn.datasets import make_classification\n",
    "from sklearn import svm\n",
    "import numpy as np"
   ]
  },
  {
   "cell_type": "code",
   "execution_count": 67,
   "metadata": {},
   "outputs": [],
   "source": [
    "x,y=make_classification(n_samples=100,n_features=2,n_classes=2,n_redundant=0,weights=[0.5,0.5],random_state=1)"
   ]
  },
  {
   "cell_type": "code",
   "execution_count": 68,
   "metadata": {},
   "outputs": [
    {
     "name": "stdout",
     "output_type": "stream",
     "text": [
      "[[ 1.30022717 -0.7856539 ]\n",
      " [ 1.44184425 -0.56008554]\n",
      " [-0.84792445 -1.36621324]\n",
      " [-0.72215015 -1.41129414]\n",
      " [-1.27221465  0.25945106]\n",
      " [ 0.78694271  0.94294879]\n",
      " [ 0.81695766 -1.12478707]\n",
      " [ 1.6822707  -0.67596877]\n",
      " [-1.07223343 -0.7701513 ]\n",
      " [-0.06539297  1.11257376]\n",
      " [-1.33232952  0.60245671]\n",
      " [-0.6963714   0.96382716]\n",
      " [ 0.82340614  0.7561926 ]\n",
      " [-1.5155534  -0.15804853]\n",
      " [-0.78971776  1.70347973]\n",
      " [ 0.85887841  1.04457966]\n",
      " [-0.45001335  0.27345841]\n",
      " [ 0.7099324   0.69020919]\n",
      " [-0.79095935  1.60495551]\n",
      " [-1.08077536 -1.15530746]\n",
      " [-1.5691733  -0.54054806]\n",
      " [-0.52568843  1.52568161]\n",
      " [-1.27406042 -0.1434304 ]\n",
      " [ 0.89621114 -1.11509679]\n",
      " [-0.85259895 -1.42554982]\n",
      " [-0.63262806  1.2217558 ]\n",
      " [-0.86447712 -1.40921978]\n",
      " [-0.47819102  3.17462483]\n",
      " [-1.25230004 -0.57685918]\n",
      " [-0.84475639 -1.44303438]\n",
      " [ 1.07510938 -1.00137091]\n",
      " [-0.95126327  0.9659913 ]\n",
      " [-1.09530458  1.23965215]\n",
      " [ 0.48229726  1.62411168]\n",
      " [-0.502186    2.05132133]\n",
      " [-1.54398637  0.01188478]\n",
      " [-1.08864222 -0.85261295]\n",
      " [-0.90131654 -0.96654311]\n",
      " [ 1.69606253  0.2914725 ]\n",
      " [ 1.12018826 -1.24017985]\n",
      " [ 1.06080576  0.58530898]\n",
      " [-1.4424493   0.2768457 ]\n",
      " [-0.70726877 -1.75151751]\n",
      " [ 1.04984745  0.18471318]\n",
      " [ 1.33139049 -0.66176572]\n",
      " [ 0.651448   -1.21037691]\n",
      " [-0.95710526 -1.01412185]\n",
      " [ 1.50284911  0.18387793]\n",
      " [-1.01103813  1.66092093]\n",
      " [ 0.24305711 -1.56629795]\n",
      " [-0.40394191  1.94981005]\n",
      " [-1.51594823 -0.02488133]\n",
      " [ 0.75221692 -1.09094359]\n",
      " [-1.10325445 -0.70158632]\n",
      " [-1.02489651  1.25959039]\n",
      " [-0.76070629 -1.49363676]\n",
      " [-0.67325919 -1.78962393]\n",
      " [ 0.56574606 -1.25127924]\n",
      " [ 1.11298159 -0.90801871]\n",
      " [ 1.16188579  0.50520809]\n",
      " [ 0.68064537 -1.20440239]\n",
      " [-1.47955308  0.04255402]\n",
      " [ 0.48134584 -0.44632785]\n",
      " [ 0.92116205 -1.07020755]\n",
      " [-1.1068686   1.71718559]\n",
      " [ 0.32953519  1.34104147]\n",
      " [ 0.94913223  1.11955768]\n",
      " [ 0.8756767   0.76529832]\n",
      " [-1.18951588  0.38360693]\n",
      " [-1.36910947 -0.17113665]\n",
      " [-1.01015351  0.85809225]\n",
      " [-1.66153635  0.46339315]\n",
      " [ 0.98173251 -0.91625701]\n",
      " [ 0.82300836 -1.06633261]\n",
      " [ 0.51027603 -1.3812928 ]\n",
      " [ 1.04541272 -0.92751156]\n",
      " [-0.85436664  1.92296129]\n",
      " [-0.71572893 -1.63971434]\n",
      " [ 0.6486895   1.2600083 ]\n",
      " [ 0.7185152  -1.31918161]\n",
      " [ 0.85565037 -0.99134803]\n",
      " [ 1.01737804 -1.06220957]\n",
      " [-0.78702113  0.89352558]\n",
      " [ 1.63147164  1.10755772]\n",
      " [ 0.62577573 -1.24174887]\n",
      " [-0.62679113 -1.73440213]\n",
      " [ 0.63378314  0.28733318]\n",
      " [ 0.91533271  0.85370495]\n",
      " [ 1.37320248  1.6689382 ]\n",
      " [-1.31610584 -0.63788135]\n",
      " [-0.95543218 -1.18054667]\n",
      " [ 0.67697979 -1.0689833 ]\n",
      " [ 1.38216805 -0.49634539]\n",
      " [-0.30121926  1.71834622]\n",
      " [ 2.14957042 -0.3114632 ]\n",
      " [ 0.94046067 -1.10029918]\n",
      " [-0.84521171  1.66086437]\n",
      " [-1.42368943  0.39184587]\n",
      " [ 0.9825172   0.33847597]\n",
      " [-1.29401108 -0.54922692]] [1 1 0 0 0 1 1 1 0 1 0 0 1 0 0 1 1 1 0 0 0 0 0 1 0 0 0 0 0 0 1 0 0 1 0 0 0\n",
      " 0 1 1 1 0 0 1 1 1 0 1 0 1 1 0 1 0 0 0 0 1 1 1 1 0 1 1 0 1 1 1 0 0 0 0 1 1\n",
      " 1 1 0 0 1 1 1 1 0 1 1 0 1 1 1 0 0 1 1 0 1 1 0 0 1 0]\n"
     ]
    }
   ],
   "source": [
    "print(x,y)"
   ]
  },
  {
   "cell_type": "code",
   "execution_count": 69,
   "metadata": {},
   "outputs": [],
   "source": [
    "model=svm.SVC(kernel='linear',random_state=0)"
   ]
  },
  {
   "cell_type": "code",
   "execution_count": 70,
   "metadata": {},
   "outputs": [
    {
     "data": {
      "text/plain": [
       "SVC(kernel='linear', random_state=0)"
      ]
     },
     "execution_count": 70,
     "metadata": {},
     "output_type": "execute_result"
    }
   ],
   "source": [
    "model.fit(x,y)"
   ]
  },
  {
   "cell_type": "code",
   "execution_count": 71,
   "metadata": {},
   "outputs": [
    {
     "data": {
      "text/plain": [
       "0.98"
      ]
     },
     "execution_count": 71,
     "metadata": {},
     "output_type": "execute_result"
    }
   ],
   "source": [
    "model.score(x,y)   #testing the accuracy on the test data itself"
   ]
  },
  {
   "cell_type": "code",
   "execution_count": 72,
   "metadata": {},
   "outputs": [
    {
     "name": "stdout",
     "output_type": "stream",
     "text": [
      "[[ 2.20441072 -0.08649644]] 0.0\n"
     ]
    }
   ],
   "source": [
    " print(model.coef_,model.coef0)"
   ]
  },
  {
   "cell_type": "code",
   "execution_count": 73,
   "metadata": {},
   "outputs": [
    {
     "name": "stdout",
     "output_type": "stream",
     "text": [
      "(2,)\n",
      "25.48556589526679\n"
     ]
    }
   ],
   "source": [
    "w=model.coef_[0]\n",
    "print(w.shape)\n",
    "a=-w[0]/w[1]\n",
    "print(a)"
   ]
  },
  {
   "cell_type": "code",
   "execution_count": 74,
   "metadata": {},
   "outputs": [
    {
     "data": {
      "text/plain": [
       "array([-5.        , -4.79591837, -4.59183673, -4.3877551 , -4.18367347,\n",
       "       -3.97959184, -3.7755102 , -3.57142857, -3.36734694, -3.16326531,\n",
       "       -2.95918367, -2.75510204, -2.55102041, -2.34693878, -2.14285714,\n",
       "       -1.93877551, -1.73469388, -1.53061224, -1.32653061, -1.12244898,\n",
       "       -0.91836735, -0.71428571, -0.51020408, -0.30612245, -0.10204082,\n",
       "        0.10204082,  0.30612245,  0.51020408,  0.71428571,  0.91836735,\n",
       "        1.12244898,  1.32653061,  1.53061224,  1.73469388,  1.93877551,\n",
       "        2.14285714,  2.34693878,  2.55102041,  2.75510204,  2.95918367,\n",
       "        3.16326531,  3.36734694,  3.57142857,  3.7755102 ,  3.97959184,\n",
       "        4.18367347,  4.3877551 ,  4.59183673,  4.79591837,  5.        ])"
      ]
     },
     "execution_count": 74,
     "metadata": {},
     "output_type": "execute_result"
    }
   ],
   "source": [
    "xx=np.linspace(-5,5)   #generate 50 evenly spaced values form -5 to 5\n",
    "xx"
   ]
  },
  {
   "cell_type": "code",
   "execution_count": 75,
   "metadata": {},
   "outputs": [
    {
     "data": {
      "text/plain": [
       "50"
      ]
     },
     "execution_count": 75,
     "metadata": {},
     "output_type": "execute_result"
    }
   ],
   "source": [
    "len(xx)"
   ]
  },
  {
   "cell_type": "code",
   "execution_count": 76,
   "metadata": {},
   "outputs": [
    {
     "data": {
      "text/plain": [
       "0.32893003832017065"
      ]
     },
     "execution_count": 76,
     "metadata": {},
     "output_type": "execute_result"
    }
   ],
   "source": [
    "model.intercept_[0]"
   ]
  },
  {
   "cell_type": "code",
   "execution_count": 77,
   "metadata": {},
   "outputs": [
    {
     "data": {
      "text/plain": [
       "-0.08649643981365451"
      ]
     },
     "execution_count": 77,
     "metadata": {},
     "output_type": "execute_result"
    }
   ],
   "source": [
    "w[1]"
   ]
  },
  {
   "cell_type": "code",
   "execution_count": 78,
   "metadata": {},
   "outputs": [],
   "source": [
    "yy=a*xx - model.intercept_[0]/w[0]"
   ]
  },
  {
   "cell_type": "code",
   "execution_count": 79,
   "metadata": {},
   "outputs": [
    {
     "data": {
      "text/plain": [
       "array([-127.57704397, -122.37590808, -117.17477218, -111.97363628,\n",
       "       -106.77250039, -101.57136449,  -96.37022859,  -91.1690927 ,\n",
       "        -85.9679568 ,  -80.7668209 ,  -75.565685  ,  -70.36454911,\n",
       "        -65.16341321,  -59.96227731,  -54.76114142,  -49.56000552,\n",
       "        -44.35886962,  -39.15773373,  -33.95659783,  -28.75546193,\n",
       "        -23.55432603,  -18.35319014,  -13.15205424,   -7.95091834,\n",
       "         -2.74978245,    2.45135345,    7.65248935,   12.85362524,\n",
       "         18.05476114,   23.25589704,   28.45703294,   33.65816883,\n",
       "         38.85930473,   44.06044063,   49.26157652,   54.46271242,\n",
       "         59.66384832,   64.86498421,   70.06612011,   75.26725601,\n",
       "         80.46839191,   85.6695278 ,   90.8706637 ,   96.0717996 ,\n",
       "        101.27293549,  106.47407139,  111.67520729,  116.87634318,\n",
       "        122.07747908,  127.27861498])"
      ]
     },
     "execution_count": 79,
     "metadata": {},
     "output_type": "execute_result"
    }
   ],
   "source": [
    "yy"
   ]
  },
  {
   "cell_type": "code",
   "execution_count": 80,
   "metadata": {},
   "outputs": [
    {
     "name": "stdout",
     "output_type": "stream",
     "text": [
      "Support vectors :  [[-0.52568843  1.52568161]\n",
      " [-0.47819102  3.17462483]\n",
      " [-0.502186    2.05132133]\n",
      " [-0.67325919 -1.78962393]\n",
      " [-0.62679113 -1.73440213]\n",
      " [-0.30121926  1.71834622]\n",
      " [-0.06539297  1.11257376]\n",
      " [-0.45001335  0.27345841]\n",
      " [ 0.24305711 -1.56629795]\n",
      " [-0.40394191  1.94981005]\n",
      " [ 0.32953519  1.34104147]]\n"
     ]
    }
   ],
   "source": [
    "print('Support vectors : ',model.support_vectors_)     #the points that are passing through the parallel lines w.r.t the hyperplane"
   ]
  },
  {
   "cell_type": "code",
   "execution_count": 81,
   "metadata": {},
   "outputs": [
    {
     "data": {
      "text/plain": [
       "array([-0.52568843,  1.52568161])"
      ]
     },
     "execution_count": 81,
     "metadata": {},
     "output_type": "execute_result"
    }
   ],
   "source": [
    "b=model.support_vectors_[0]\n",
    "b"
   ]
  },
  {
   "cell_type": "code",
   "execution_count": 82,
   "metadata": {},
   "outputs": [
    {
     "name": "stdout",
     "output_type": "stream",
     "text": [
      "(11, 2)\n"
     ]
    }
   ],
   "source": [
    "print(model.support_vectors_.shape)"
   ]
  },
  {
   "cell_type": "code",
   "execution_count": 83,
   "metadata": {},
   "outputs": [
    {
     "data": {
      "text/plain": [
       "array([-142.35097819, -137.14984229, -131.9487064 , -126.7475705 ,\n",
       "       -121.5464346 , -116.34529871, -111.14416281, -105.94302691,\n",
       "       -100.74189102,  -95.54075512,  -90.33961922,  -85.13848332,\n",
       "        -79.93734743,  -74.73621153,  -69.53507563,  -64.33393974,\n",
       "        -59.13280384,  -53.93166794,  -48.73053205,  -43.52939615,\n",
       "        -38.32826025,  -33.12712435,  -27.92598846,  -22.72485256,\n",
       "        -17.52371666,  -12.32258077,   -7.12144487,   -1.92030897,\n",
       "          3.28082692,    8.48196282,   13.68309872,   18.88423462,\n",
       "         24.08537051,   29.28650641,   34.48764231,   39.6887782 ,\n",
       "         44.8899141 ,   50.09105   ,   55.29218589,   60.49332179,\n",
       "         65.69445769,   70.89559359,   76.09672948,   81.29786538,\n",
       "         86.49900128,   91.70013717,   96.90127307,  102.10240897,\n",
       "        107.30354486,  112.50468076])"
      ]
     },
     "execution_count": 83,
     "metadata": {},
     "output_type": "execute_result"
    }
   ],
   "source": [
    "yy_down=a*xx-(b[1]-a*b[0])\n",
    "yy_down"
   ]
  },
  {
   "cell_type": "code",
   "execution_count": 84,
   "metadata": {},
   "outputs": [
    {
     "name": "stdout",
     "output_type": "stream",
     "text": [
      "Support vector up [-0.47819102  3.17462483]\n"
     ]
    }
   ],
   "source": [
    "b=model.support_vectors_[1]\n",
    "print(\"Support vector up\",b)"
   ]
  },
  {
   "cell_type": "code",
   "execution_count": 85,
   "metadata": {},
   "outputs": [
    {
     "data": {
      "text/plain": [
       "array([-142.78942295, -137.58828705, -132.38715115, -127.18601526,\n",
       "       -121.98487936, -116.78374346, -111.58260757, -106.38147167,\n",
       "       -101.18033577,  -95.97919987,  -90.77806398,  -85.57692808,\n",
       "        -80.37579218,  -75.17465629,  -69.97352039,  -64.77238449,\n",
       "        -59.5712486 ,  -54.3701127 ,  -49.1689768 ,  -43.9678409 ,\n",
       "        -38.76670501,  -33.56556911,  -28.36443321,  -23.16329732,\n",
       "        -17.96216142,  -12.76102552,   -7.55988963,   -2.35875373,\n",
       "          2.84238217,    8.04351807,   13.24465396,   18.44578986,\n",
       "         23.64692576,   28.84806165,   34.04919755,   39.25033345,\n",
       "         44.45146934,   49.65260524,   54.85374114,   60.05487704,\n",
       "         65.25601293,   70.45714883,   75.65828473,   80.85942062,\n",
       "         86.06055652,   91.26169242,   96.46282831,  101.66396421,\n",
       "        106.86510011,  112.06623601])"
      ]
     },
     "execution_count": 85,
     "metadata": {},
     "output_type": "execute_result"
    }
   ],
   "source": [
    "yy_up=a*xx-(b[1]-a*b[0])\n",
    "yy_up"
   ]
  },
  {
   "cell_type": "code",
   "execution_count": 86,
   "metadata": {},
   "outputs": [],
   "source": [
    "import  matplotlib.pyplot as plt"
   ]
  },
  {
   "cell_type": "code",
   "execution_count": 87,
   "metadata": {},
   "outputs": [
    {
     "data": {
      "image/png": "[encoded data removed]",
      "text/plain": [
       "<Figure size 432x288 with 1 Axes>"
      ]
     },
     "metadata": {
      "needs_background": "light"
     },
     "output_type": "display_data"
    }
   ],
   "source": [
    "#Import mlxtend to plot decision region\n",
    "from mlxtend.plotting import plot_decision_regions\n",
    "plot_decision_regions (x, y, clf = model)\n",
    "#Plot the line, points and nearest vectors to hyperplane\n",
    "plt.scatter(model.support_vectors_[:, 0], model.support_vectors_[:, 1],s = 100)\n",
    "plt.plot(xx, yy_down, 'k--')\n",
    "plt.plot(xx, yy_up, 'k--')\n",
    "plt.xlabel('X1')\n",
    "plt.ylabel('X2')\n",
    "plt.show()\n"
   ]
  },
  {
   "cell_type": "code",
   "execution_count": 88,
   "metadata": {},
   "outputs": [
    {
     "data": {
      "text/plain": [
       "array([-0.52568843, -0.47819102, -0.502186  , -0.67325919, -0.62679113,\n",
       "       -0.30121926, -0.06539297, -0.45001335,  0.24305711, -0.40394191,\n",
       "        0.32953519])"
      ]
     },
     "execution_count": 88,
     "metadata": {},
     "output_type": "execute_result"
    }
   ],
   "source": [
    "model.support_vectors_[:, 0]"
   ]
  },
  {
   "cell_type": "code",
   "execution_count": 89,
   "metadata": {},
   "outputs": [
    {
     "data": {
      "text/plain": [
       "array([[-0.52568843,  1.52568161],\n",
       "       [-0.47819102,  3.17462483],\n",
       "       [-0.502186  ,  2.05132133],\n",
       "       [-0.67325919, -1.78962393],\n",
       "       [-0.62679113, -1.73440213],\n",
       "       [-0.30121926,  1.71834622],\n",
       "       [-0.06539297,  1.11257376],\n",
       "       [-0.45001335,  0.27345841],\n",
       "       [ 0.24305711, -1.56629795],\n",
       "       [-0.40394191,  1.94981005],\n",
       "       [ 0.32953519,  1.34104147]])"
      ]
     },
     "execution_count": 89,
     "metadata": {},
     "output_type": "execute_result"
    }
   ],
   "source": [
    "model.support_vectors_"
   ]
  },
  {
   "cell_type": "code",
   "execution_count": null,
   "metadata": {},
   "outputs": [],
   "source": []
  },
  {
   "cell_type": "code",
   "execution_count": null,
   "metadata": {},
   "outputs": [],
   "source": []
  },
  {
   "cell_type": "code",
   "execution_count": null,
   "metadata": {},
   "outputs": [],
   "source": []
  },
  {
   "cell_type": "code",
   "execution_count": null,
   "metadata": {},
   "outputs": [],
   "source": []
  },
  {
   "cell_type": "markdown",
   "metadata": {},
   "source": [
    "CODE: "
   ]
  },
  {
   "cell_type": "code",
   "execution_count": 90,
   "metadata": {},
   "outputs": [
    {
     "name": "stderr",
     "output_type": "stream",
     "text": [
      "C:\\Anaconda\\lib\\site-packages\\sklearn\\utils\\validation.py:67: FutureWarning: Pass n_informative=2, n_redundant=0 as keyword args. From version 0.25 passing these as positional arguments will result in an error\n",
      "  warnings.warn(\"Pass {} as keyword args. From version 0.25 \"\n"
     ]
    },
    {
     "name": "stdout",
     "output_type": "stream",
     "text": [
      "[[2.03628764 0.30412236]]\n",
      "(2,)\n",
      "[2.03628764 0.30412236]\n",
      "[-5.         -4.79591837 -4.59183673 -4.3877551  -4.18367347 -3.97959184\n",
      " -3.7755102  -3.57142857 -3.36734694 -3.16326531 -2.95918367 -2.75510204\n",
      " -2.55102041 -2.34693878 -2.14285714 -1.93877551 -1.73469388 -1.53061224\n",
      " -1.32653061 -1.12244898 -0.91836735 -0.71428571 -0.51020408 -0.30612245\n",
      " -0.10204082  0.10204082  0.30612245  0.51020408  0.71428571  0.91836735\n",
      "  1.12244898  1.32653061  1.53061224  1.73469388  1.93877551  2.14285714\n",
      "  2.34693878  2.55102041  2.75510204  2.95918367  3.16326531  3.36734694\n",
      "  3.57142857  3.7755102   3.97959184  4.18367347  4.3877551   4.59183673\n",
      "  4.79591837  5.        ]\n",
      "[ 31.56740836  30.20095536  28.83450236  27.46804936  26.10159636\n",
      "  24.73514335  23.36869035  22.00223735  20.63578435  19.26933135\n",
      "  17.90287835  16.53642535  15.16997235  13.80351934  12.43706634\n",
      "  11.07061334   9.70416034   8.33770734   6.97125434   5.60480134\n",
      "   4.23834834   2.87189533   1.50544233   0.13898933  -1.22746367\n",
      "  -2.59391667  -3.96036967  -5.32682267  -6.69327567  -8.05972868\n",
      "  -9.42618168 -10.79263468 -12.15908768 -13.52554068 -14.89199368\n",
      " -16.25844668 -17.62489968 -18.99135269 -20.35780569 -21.72425869\n",
      " -23.09071169 -24.45716469 -25.82361769 -27.19007069 -28.55652369\n",
      " -29.9229767  -31.2894297  -32.6558827  -34.0223357  -35.3887887 ]\n",
      "Support vectors  [[-0.76605469  0.18332468]\n",
      " [ 0.95252962 -0.79347019]\n",
      " [-0.43793316 -1.24378126]\n",
      " [-0.44736931 -0.26805121]\n",
      " [-0.89436588  0.92995032]\n",
      " [-0.83183986  0.7216695 ]\n",
      " [-0.90014214  1.78037474]\n",
      " [ 0.5710682  -1.23267396]\n",
      " [-0.15902752 -2.38076394]\n",
      " [-0.59732184 -1.20114435]\n",
      " [-0.90334395  1.79445113]\n",
      " [-0.61529301 -0.86400813]\n",
      " [-0.78091068  1.85082392]\n",
      " [-0.6358122   1.35329628]\n",
      " [-1.04999632  1.83240861]\n",
      " [-1.53716448  1.10502647]\n",
      " [-0.32372692  0.55626974]\n",
      " [ 0.24820673 -0.50979271]\n",
      " [-0.53583409  1.10698637]\n",
      " [-0.11213297 -0.90719743]\n",
      " [-0.26822526  0.0458931 ]\n",
      " [-0.10789457  1.34057624]\n",
      " [-0.2415271   0.4559465 ]\n",
      " [ 0.21654345 -0.07156026]\n",
      " [-1.17921312  0.54481881]\n",
      " [-0.13650855  0.73389996]\n",
      " [-0.68304936 -0.80022106]\n",
      " [-0.07818714 -0.35452887]\n",
      " [ 0.21726178 -0.47182417]]\n",
      "(29, 2)\n",
      "Support Vectors down [-0.76605469  0.18332468]\n",
      "[ 38.42398476  37.05753176  35.69107876  34.32462575  32.95817275\n",
      "  31.59171975  30.22526675  28.85881375  27.49236075  26.12590775\n",
      "  24.75945475  23.39300174  22.02654874  20.66009574  19.29364274\n",
      "  17.92718974  16.56073674  15.19428374  13.82783074  12.46137773\n",
      "  11.09492473   9.72847173   8.36201873   6.99556573   5.62911273\n",
      "   4.26265973   2.89620673   1.52975372   0.16330072  -1.20315228\n",
      "  -2.56960528  -3.93605828  -5.30251128  -6.66896428  -8.03541728\n",
      "  -9.40187029 -10.76832329 -12.13477629 -13.50122929 -14.86768229\n",
      " -16.23413529 -17.60058829 -18.96704129 -20.33349429 -21.6999473\n",
      " -23.0664003  -24.4328533  -25.7993063  -27.1657593  -28.5322123 ]\n",
      "Support Vectors up [ 0.95252962 -0.79347019]\n",
      "[ 27.89379262  26.52733962  25.16088661  23.79443361  22.42798061\n",
      "  21.06152761  19.69507461  18.32862161  16.96216861  15.59571561\n",
      "  14.2292626   12.8628096   11.4963566   10.1299036    8.7634506\n",
      "   7.3969976    6.0305446    4.6640916    3.29763859   1.93118559\n",
      "   0.56473259  -0.80172041  -2.16817341  -3.53462641  -4.90107941\n",
      "  -6.26753241  -7.63398542  -9.00043842 -10.36689142 -11.73334442\n",
      " -13.09979742 -14.46625042 -15.83270342 -17.19915642 -18.56560943\n",
      " -19.93206243 -21.29851543 -22.66496843 -24.03142143 -25.39787443\n",
      " -26.76432743 -28.13078043 -29.49723344 -30.86368644 -32.23013944\n",
      " -33.59659244 -34.96304544 -36.32949844 -37.69595144 -39.06240444]\n"
     ]
    },
    {
     "data": {
      "image/png": "[encoded data removed]",
      "text/plain": [
       "<Figure size 432x288 with 1 Axes>"
      ]
     },
     "metadata": {
      "needs_background": "light"
     },
     "output_type": "display_data"
    }
   ],
   "source": [
    "from sklearn.datasets import make_classification\n",
    "import pandas as pd\n",
    "import numpy as np\n",
    "from sklearn.model_selection import train_test_split\n",
    "from sklearn.preprocessing import StandardScaler\n",
    "from sklearn import svm\n",
    "from sklearn.metrics import accuracy_score\n",
    "import matplotlib.pyplot as plt\n",
    "'''\n",
    "sklearn.datasets.make_classification(n_samples=100, n_features=20, *, n_informative=2, \n",
    "n_redundant=2, n_repeated=0, n_classes=2, n_clusters_per_class=2, weights=None, \n",
    "flip_y=0.01, class_sep=1.0, hypercube=True, shift=0.0, scale=1.0, shuffle=True, random_state=None)\n",
    "'''\n",
    "X, y = make_classification(100, 2, 2, 0, weights=[0.5, 0.5], random_state = 0 )\n",
    "#print (X)\n",
    "#print (y)\n",
    "Clf = svm.SVC(kernel='linear', random_state=0)\n",
    "Clf.fit(X,y)\n",
    "#get the seperating hyperplane\n",
    "'''\n",
    "Scikit-Learn's documentation states that the coef_ attribute is an array of shape \n",
    "shape = [n_class * (n_class-1) / 2, n_features]. \n",
    "Assuming 4 classes and 9 features, _coef is of shape 6 x 9 (six rows and nine columns).\n",
    "'''\n",
    "print (Clf.coef_)\n",
    "w = Clf.coef_[0]\n",
    "print (w.shape)\n",
    "print (w)\n",
    "a = -w[0] / w[1]\n",
    "#Return evenly spaced numbers over a specified interval.\n",
    "#Default are 50 numbers\n",
    "xx = np.linspace(-5, 5)\n",
    "print (xx)\n",
    "yy = a * xx - (Clf.intercept_[0]) / w[1]\n",
    "print (yy)\n",
    "'''\n",
    "support_vectors_ − array-like, shape = [n_SV, n_features]\n",
    "It returns the support vectors.\n",
    "'''\n",
    "#Now plot lines parallel to hyperplane passing through support vectors\n",
    "print ('Support vectors ', Clf.support_vectors_)\n",
    "b = Clf.support_vectors_[0]\n",
    "print (Clf.support_vectors_.shape)\n",
    "print ('Support Vectors down', b)\n",
    "yy_down = a * xx - (b[1] - a * b[0])\n",
    "print (yy_down)\n",
    "b = Clf.support_vectors_[1]\n",
    "print ('Support Vectors up', b)\n",
    "yy_up = a * xx - (b[1] - a * b[0])\n",
    "print (yy_up)\n",
    "#Import mlxtend to plot decision region\n",
    "from mlxtend.plotting import plot_decision_regions\n",
    "plot_decision_regions (X, y, clf = Clf)\n",
    "#Plot the line, points and nearest vectors to hyperplane\n",
    "plt.scatter(Clf.support_vectors_[:, 0], Clf.support_vectors_[:, 1], \\\n",
    "            s = 80, facecolors = 'none')\n",
    "plt.plot(xx, yy_down, 'k--')\n",
    "plt.plot(xx, yy_up, 'k')\n",
    "plt.xlabel('X1')\n",
    "plt.ylabel('X2')\n",
    "plt.show()\n"
   ]
  }
 ],
 "metadata": {
  "kernelspec": {
   "display_name": "Python 3",
   "language": "python",
   "name": "python3"
  },
  "language_info": {
   "codemirror_mode": {
    "name": "ipython",
    "version": 3
   },
   "file_extension": ".py",
   "mimetype": "text/x-python",
   "name": "python",
   "nbconvert_exporter": "python",
   "pygments_lexer": "ipython3",
   "version": "3.8.5"
  }
 },
 "nbformat": 4,
 "nbformat_minor": 4
}
