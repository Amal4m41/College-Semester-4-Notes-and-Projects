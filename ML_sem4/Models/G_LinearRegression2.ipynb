{
 "cells": [
  {
   "cell_type": "code",
   "execution_count": 3,
   "metadata": {},
   "outputs": [],
   "source": [
    "import pandas as pd\n",
    "import matplotlib.pyplot as plt\n",
    "from sklearn import linear_model\n",
    "import numpy as np "
   ]
  },
  {
   "cell_type": "code",
   "execution_count": 62,
   "metadata": {},
   "outputs": [
    {
     "name": "stdout",
     "output_type": "stream",
     "text": [
      "   Hours_Studied  Test_Grade\n",
      "0              2          57\n",
      "1              3          66\n",
      "2              4          73\n",
      "3              5          76\n",
      "4              6          79\n",
      "5              7          81\n",
      "6              8          90\n",
      "7              9          96\n",
      "8             10         100\n"
     ]
    },
    {
     "data": {
      "text/plain": [
       "LinearRegression(copy_X=True, fit_intercept=True, n_jobs=None, normalize=False)"
      ]
     },
     "execution_count": 62,
     "metadata": {},
     "output_type": "execute_result"
    }
   ],
   "source": [
    "df=pd.read_csv(\"../datasets/Grade_Set_1.csv\")\n",
    "print(df)\n",
    "model=linear_model.LinearRegression()\n",
    "\n",
    "X=[df['Hours_Studied']]\n",
    "y=[df['Test_Grade']]\n",
    "# z=[df['Test_Grade']+5]\n",
    "# print(y,z)\n",
    "\n",
    "model.fit(X,y)"
   ]
  },
  {
   "cell_type": "code",
   "execution_count": 63,
   "metadata": {},
   "outputs": [
    {
     "name": "stdout",
     "output_type": "stream",
     "text": [
      "[[ 57.  66.  73.  76.  79.  81.  90.  96. 100.]]\n",
      "   Hours_Studied  Test_Grade  Predicted_test_grade\n",
      "0              2          57                  57.0\n",
      "1              3          66                  66.0\n",
      "2              4          73                  73.0\n",
      "3              5          76                  76.0\n",
      "4              6          79                  79.0\n",
      "5              7          81                  81.0\n",
      "6              8          90                  90.0\n",
      "7              9          96                  96.0\n",
      "8             10         100                 100.0\n"
     ]
    }
   ],
   "source": [
    "predicted=model.predict(X)\n",
    "print(predicted)\n",
    "\n",
    "\n",
    "type(predicted)\n",
    "predicted.shape   #(1, 9)\n",
    "predicted=predicted.reshape(9,1)\n",
    "df['Predicted_test_grade']=predicted\n",
    "print(df)\n",
    "# df.drop(['Predicted'],axis=1,inplace=True)"
   ]
  },
  {
   "cell_type": "code",
   "execution_count": 64,
   "metadata": {},
   "outputs": [
    {
     "data": {
      "image/png": "[encoded data removed]",
      "text/plain": [
       "<Figure size 432x288 with 1 Axes>"
      ]
     },
     "metadata": {
      "needs_background": "light"
     },
     "output_type": "display_data"
    }
   ],
   "source": [
    "#Scatter plot\n",
    "plt.scatter(df['Hours_Studied'],df['Test_Grade'],color='black')\n",
    "plt.plot(df['Hours_Studied'],df['Predicted_test_grade'],color='blue',linewidth=3)\n",
    "type(X)\n",
    "plt.title('Hours studied vs Test score')\n",
    "plt.xlabel('Hours studied')\n",
    "plt.ylabel('Test score')\n",
    "\n",
    "plt.show()"
   ]
  },
  {
   "cell_type": "code",
   "execution_count": 65,
   "metadata": {},
   "outputs": [
    {
     "data": {
      "text/html": [
       "<div>\n",
       "<style scoped>\n",
       "    .dataframe tbody tr th:only-of-type {\n",
       "        vertical-align: middle;\n",
       "    }\n",
       "\n",
       "    .dataframe tbody tr th {\n",
       "        vertical-align: top;\n",
       "    }\n",
       "\n",
       "    .dataframe thead th {\n",
       "        text-align: right;\n",
       "    }\n",
       "</style>\n",
       "<table border=\"1\" class=\"dataframe\">\n",
       "  <thead>\n",
       "    <tr style=\"text-align: right;\">\n",
       "      <th></th>\n",
       "      <th>Hours_Studied</th>\n",
       "      <th>Test_Grade</th>\n",
       "    </tr>\n",
       "  </thead>\n",
       "  <tbody>\n",
       "    <tr>\n",
       "      <th>Hours_Studied</th>\n",
       "      <td>1.000000</td>\n",
       "      <td>0.987797</td>\n",
       "    </tr>\n",
       "    <tr>\n",
       "      <th>Test_Grade</th>\n",
       "      <td>0.987797</td>\n",
       "      <td>1.000000</td>\n",
       "    </tr>\n",
       "  </tbody>\n",
       "</table>\n",
       "</div>"
      ],
      "text/plain": [
       "               Hours_Studied  Test_Grade\n",
       "Hours_Studied       1.000000    0.987797\n",
       "Test_Grade          0.987797    1.000000"
      ]
     },
     "execution_count": 65,
     "metadata": {},
     "output_type": "execute_result"
    }
   ],
   "source": [
    "#Checking the correlation\n",
    "df.iloc[:,0:2].corr()"
   ]
  }
 ],
 "metadata": {
  "kernelspec": {
   "display_name": "Python 3",
   "language": "python",
   "name": "python3"
  },
  "language_info": {
   "codemirror_mode": {
    "name": "ipython",
    "version": 3
   },
   "file_extension": ".py",
   "mimetype": "text/x-python",
   "name": "python",
   "nbconvert_exporter": "python",
   "pygments_lexer": "ipython3",
   "version": "3.8.7"
  }
 },
 "nbformat": 4,
 "nbformat_minor": 4
}
