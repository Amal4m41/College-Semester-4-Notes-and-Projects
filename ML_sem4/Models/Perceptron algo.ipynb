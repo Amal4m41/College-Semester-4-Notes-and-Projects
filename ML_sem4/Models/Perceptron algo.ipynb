{
 "cells": [
  {
   "cell_type": "code",
   "execution_count": 22,
   "metadata": {},
   "outputs": [],
   "source": [
    "from sklearn.linear_model import Perceptron\n",
    "import matplotlib.pyplot as plt"
   ]
  },
  {
   "cell_type": "code",
   "execution_count": 2,
   "metadata": {},
   "outputs": [],
   "source": [
    "from sklearn.datasets import make_classification\n",
    "x,y=make_classification(20,2,2,0,weights=[0.5,0.5],random_state=1)"
   ]
  },
  {
   "cell_type": "code",
   "execution_count": 3,
   "metadata": {},
   "outputs": [
    {
     "data": {
      "text/plain": [
       "array([[-1.16925758, -2.68366062],\n",
       "       [ 0.15620461,  1.75810823],\n",
       "       [-0.34279335,  0.13574494],\n",
       "       [-0.34831546,  1.24939741],\n",
       "       [ 1.02038585, -0.84707228],\n",
       "       [-0.75371374, -2.58312461],\n",
       "       [-1.43090867,  1.18968955],\n",
       "       [ 0.96147983, -1.13237558],\n",
       "       [ 0.59580588,  1.48686048],\n",
       "       [-1.20825938,  2.20709937],\n",
       "       [-1.17420275, -2.52974354],\n",
       "       [ 0.96541631, -0.8356066 ],\n",
       "       [-1.0120367 , -1.35069701],\n",
       "       [-2.02051088,  0.94490844],\n",
       "       [-0.7250477 , -0.9970991 ],\n",
       "       [ 1.04362151, -2.99091327],\n",
       "       [ 0.84032283,  1.58019094],\n",
       "       [ 1.14322724,  1.66872712],\n",
       "       [ 1.52377353, -0.34931642],\n",
       "       [ 1.04864369, -2.38081063]])"
      ]
     },
     "execution_count": 3,
     "metadata": {},
     "output_type": "execute_result"
    }
   ],
   "source": [
    "x"
   ]
  },
  {
   "cell_type": "code",
   "execution_count": 6,
   "metadata": {},
   "outputs": [
    {
     "data": {
      "text/plain": [
       "array([0, 1, 0, 0, 1, 0, 0, 1, 1, 0, 0, 1, 0, 0, 0, 1, 1, 1, 1, 1])"
      ]
     },
     "execution_count": 6,
     "metadata": {},
     "output_type": "execute_result"
    }
   ],
   "source": [
    "y   #size is 20"
   ]
  },
  {
   "cell_type": "code",
   "execution_count": 11,
   "metadata": {},
   "outputs": [],
   "source": [
    "#Create the model\n",
    "clf=Perceptron(max_iter=100,verbose=0,random_state=1,fit_intercept=True,eta0=0.002)"
   ]
  },
  {
   "cell_type": "code",
   "execution_count": 13,
   "metadata": {},
   "outputs": [
    {
     "name": "stdout",
     "output_type": "stream",
     "text": [
      "[0 1 0 0 1 0 0 1 1 0 0 1 0 0 0 1 1 1 1 1]\n"
     ]
    }
   ],
   "source": [
    "clf.fit(x,y)"
   ]
  },
  {
   "cell_type": "code",
   "execution_count": 15,
   "metadata": {},
   "outputs": [
    {
     "name": "stdout",
     "output_type": "stream",
     "text": [
      "Predicted :  [0 1 0 0 1 0 0 1 1 0 0 1 0 0 0 1 1 1 1 1]\n",
      "Actual :  [0 1 0 0 1 0 0 1 1 0 0 1 0 0 0 1 1 1 1 1]\n",
      "Accuracy :  100.0 %\n"
     ]
    }
   ],
   "source": [
    "print(\"Predicted : \",clf.predict(x))\n",
    "print(\"Actual : \",y)\n",
    "print(\"Accuracy : \",clf.score(x,y)*100,\"%\")    #predict with x and the compare the results with y for accuracy"
   ]
  },
  {
   "cell_type": "code",
   "execution_count": 18,
   "metadata": {},
   "outputs": [
    {
     "name": "stdout",
     "output_type": "stream",
     "text": [
      "[[ 9.2283561e-03 -6.8658688e-05]]\n",
      "x1 coeff :  0.009228356099204017\n",
      "x2 coeff :  -6.865868799639865e-05\n",
      "y intercept :  [0.]\n"
     ]
    }
   ],
   "source": [
    "#Output values\n",
    "print(clf.coef_)\n",
    "print(\"x1 coeff : \",clf.coef_[0][0])\n",
    "print(\"x2 coeff : \",clf.coef_[0][1])\n",
    "print(\"y intercept : \",clf.intercept_)"
   ]
  },
  {
   "cell_type": "code",
   "execution_count": 24,
   "metadata": {},
   "outputs": [
    {
     "data": {
      "image/png": "[encoded data removed]",
      "text/plain": [
       "<Figure size 432x288 with 1 Axes>"
      ]
     },
     "metadata": {
      "needs_background": "light"
     },
     "output_type": "display_data"
    }
   ],
   "source": [
    "#Plotting decision boundary\n",
    "from mlxtend.plotting import plot_decision_regions\n",
    "plot_decision_regions(x,y,clf=clf)\n",
    "plt.title(\"Perceptron Decision boundary\")\n",
    "plt.xlabel(\"X1\")\n",
    "plt.ylabel(\"X2\")\n",
    "plt.legend(loc=\"upper left\")\n",
    "plt.show()"
   ]
  }
 ],
 "metadata": {
  "kernelspec": {
   "display_name": "Python 3",
   "language": "python",
   "name": "python3"
  },
  "language_info": {
   "codemirror_mode": {
    "name": "ipython",
    "version": 3
   },
   "file_extension": ".py",
   "mimetype": "text/x-python",
   "name": "python",
   "nbconvert_exporter": "python",
   "pygments_lexer": "ipython3",
   "version": "3.8.7"
  }
 },
 "nbformat": 4,
 "nbformat_minor": 4
}
